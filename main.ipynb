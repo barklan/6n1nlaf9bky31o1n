{
 "cells": [
  {
   "cell_type": "markdown",
   "metadata": {},
   "source": [
    "**Auxiliary percentage = 20% so far**\n",
    "\n",
    "---\n",
    "**Problems to solve:**\n",
    "\n",
    "1. 5 problems with 2 variables for which you can easily find the solution geometrically (for LPs you should know the solution exactly, i.e. in which vertex it is, while for QPs you should the solution at least approximately).\n",
    "\n",
    "2. 5 problems with more (5-10) variables.\n",
    "\n",
    "The same applies to both, linear programs (LPs) and QPs. You can use the same feasible set for both and just choose a different objective function. Note, however, that even though the feasible set is the same for LPs and QPs (i.e. the constraints are linear), we used a different format for each. You can e.g. start with the constraints $x>=0$ and $a_i^T x <= b_i$ to fit the QP format.\n",
    "\n",
    "To make things easier, you can always choose the feasible set for which you know a feasible point that can be used as a starting point $x_0$. Particularly, for the constraints given via $x >= 0$ and $a_i^T x <= b_i$, point $x=0$ is always feasible if $b_i >= 0$.\n",
    "\n",
    "**When is the problem \"solved\"?**\n",
    "\n",
    "Since we are only dealing with LPs and QPs, the algorithm should be stopped if the multipliers have the required signs, signaling that the KKT conditions are satisfied.\n",
    "\n",
    "---"
   ]
  },
  {
   "cell_type": "markdown",
   "metadata": {},
   "source": [
    "## The simplex method"
   ]
  },
  {
   "cell_type": "markdown",
   "metadata": {},
   "source": [
    "### LP no.1 with 2 variables\n",
    "\n",
    "Maximize\n",
    "\n",
    "$$\n",
    "z = 4x + 5y\n",
    "$$\n",
    "\n",
    "s.t.\n",
    "\n",
    "$$\n",
    "x + y <= 20\\\\\n",
    "3x + 4y <= 72\n",
    "$$\n",
    "\n",
    "### Analytical\n",
    "\n",
    "<img src=\"problem1.jpg\" alt=\"drawing\" width=\"600\"/>\n",
    "\n",
    "### Programmatic\n",
    "\n",
    "...but first I need to add slack variables and stuff to get to the normal form (I will convert it back programmatically later, so this is just for my sanity). Normal form states:\n",
    "\n",
    "> Maximize the value of $c^T x$ among all vectors $x$ in $R^n$ satisfying $Ax <= b$."
   ]
  },
  {
   "cell_type": "code",
   "execution_count": 1,
   "metadata": {},
   "outputs": [],
   "source": [
    "c = [4, 5, 0, 0]  # Singifying objective: 4x_1 + 5x_2 + 0x_3 + 0x_4, where x_3 and x_4 are slack variables\n",
    "A = [  # Constraints matrix\n",
    "    [1, 1, 1, 0],  # First constraint\n",
    "    [3, 4, 0, 1],  # Second constraint\n",
    "]\n",
    "b = [20, 72]  # Right side of the constraints"
   ]
  },
  {
   "cell_type": "code",
   "execution_count": 2,
   "metadata": {},
   "outputs": [],
   "source": [
    "import numpy as np\n",
    "\n",
    "def to_tableau(c, A, b):\n",
    "    xb = [eq + [x] for eq, x in zip(A, b)]\n",
    "    z = c + [0]\n",
    "    return xb + [z]"
   ]
  },
  {
   "cell_type": "code",
   "execution_count": 3,
   "metadata": {},
   "outputs": [],
   "source": [
    "def can_be_improved(tableau):\n",
    "    \"\"\"\n",
    "    Check where nonbasic values can be increased without making the objective function value smaller.\n",
    "    \"\"\"\n",
    "    z = tableau[-1]\n",
    "    return any(x > 0 for x in z[:-1])"
   ]
  },
  {
   "cell_type": "code",
   "execution_count": 4,
   "metadata": {},
   "outputs": [],
   "source": [
    "def get_pivot_position(tableau):\n",
    "    z = tableau[-1]\n",
    "    column = next(i for i, x in enumerate(z[:-1]) if x > 0)\n",
    "    \n",
    "    restrictions = []\n",
    "    for eq in tableau[:-1]:\n",
    "        el = eq[column]\n",
    "        restrictions.append(np.inf if el <= 0 else eq[-1] / el)\n",
    "\n",
    "    row = restrictions.index(min(restrictions))\n",
    "    return row, column"
   ]
  },
  {
   "cell_type": "code",
   "execution_count": 5,
   "metadata": {},
   "outputs": [],
   "source": [
    "def pivot_step(tableau, pivot_position):\n",
    "    new_tableau = [[] for eq in tableau]\n",
    "    \n",
    "    i, j = pivot_position\n",
    "    pivot_value = tableau[i][j]\n",
    "    new_tableau[i] = np.array(tableau[i]) / pivot_value\n",
    "    \n",
    "    for eq_i, eq in enumerate(tableau):\n",
    "        if eq_i != i:\n",
    "            multiplier = np.array(new_tableau[i]) * tableau[eq_i][j]\n",
    "            new_tableau[eq_i] = np.array(tableau[eq_i]) - multiplier\n",
    "   \n",
    "    return new_tableau"
   ]
  },
  {
   "cell_type": "code",
   "execution_count": 6,
   "metadata": {},
   "outputs": [],
   "source": [
    "def is_basic(column):\n",
    "    return sum(column) == 1 and len([c for c in column if c == 0]) == len(column) - 1\n",
    "\n",
    "def get_solution(tableau):\n",
    "    columns = np.array(tableau).T\n",
    "    solutions = []\n",
    "    for column in columns:\n",
    "        solution = 0\n",
    "        if is_basic(column):\n",
    "            one_index = column.tolist().index(1)\n",
    "            solution = columns[-1][one_index]\n",
    "        solutions.append(solution)\n",
    "        \n",
    "    return solutions"
   ]
  },
  {
   "cell_type": "code",
   "execution_count": 7,
   "metadata": {},
   "outputs": [],
   "source": [
    "def simplex(c, A, b):\n",
    "    tableau = to_tableau(c, A, b)\n",
    "\n",
    "    while can_be_improved(tableau):\n",
    "        pivot_position = get_pivot_position(tableau)\n",
    "        tableau = pivot_step(tableau, pivot_position)\n",
    "\n",
    "    return get_solution(tableau)"
   ]
  },
  {
   "cell_type": "code",
   "execution_count": 8,
   "metadata": {},
   "outputs": [
    {
     "name": "stdout",
     "output_type": "stream",
     "text": [
      "solution:  [8.0, 12.0, 0, 0, 0]\n"
     ]
    }
   ],
   "source": [
    "solution = simplex(c, A, b)\n",
    "print('solution: ', solution)"
   ]
  },
  {
   "cell_type": "markdown",
   "metadata": {},
   "source": [
    "Yay!!! It's the same {8, 12} point! 10% done..."
   ]
  },
  {
   "cell_type": "markdown",
   "metadata": {},
   "source": [
    "### LP no.2 with 2 variables\n",
    "\n",
    "Maximize $x_1 + x_2$\n",
    "\n",
    "s.t.\n",
    "\n",
    "$$\n",
    "x_1 ≥ 0\\\\\n",
    "x_2 ≥ 0\\\\ \n",
    "-x_1 + x_2 ≤ 2\\\\\n",
    "x_1 ≤ 4\\\\\n",
    "x_2 ≤ 4\n",
    "$$\n",
    "\n",
    "This is actually just taken from [here](https://radzion.com/blog/operations/simplex)."
   ]
  },
  {
   "cell_type": "code",
   "execution_count": 10,
   "metadata": {},
   "outputs": [
    {
     "name": "stdout",
     "output_type": "stream",
     "text": [
      "solution:  [4.0, 4.0, 2.0, 0, 0, 0]\n"
     ]
    }
   ],
   "source": [
    "c = [1, 1, 0, 0, 0]\n",
    "A = [\n",
    "    [-1, 1, 1, 0, 0],\n",
    "    [ 1, 0, 0, 1, 0],\n",
    "    [ 0, 1, 0, 0, 1]\n",
    "]\n",
    "b = [2, 4, 4]\n",
    "\n",
    "solution = simplex(c, A, b)\n",
    "print('solution: ', solution)"
   ]
  }
 ],
 "metadata": {
  "kernelspec": {
   "display_name": "Python 3.10.5 ('.venv': venv)",
   "language": "python",
   "name": "python3"
  },
  "language_info": {
   "codemirror_mode": {
    "name": "ipython",
    "version": 3
   },
   "file_extension": ".py",
   "mimetype": "text/x-python",
   "name": "python",
   "nbconvert_exporter": "python",
   "pygments_lexer": "ipython3",
   "version": "3.10.5"
  },
  "orig_nbformat": 4,
  "vscode": {
   "interpreter": {
    "hash": "3c03fe6e66faf65c484c5b84f59123b442da6d5a482981daae01c7ccb2a46910"
   }
  }
 },
 "nbformat": 4,
 "nbformat_minor": 2
}
