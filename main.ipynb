{
 "cells": [
  {
   "cell_type": "markdown",
   "metadata": {},
   "source": [
    "**Auxiliary percentage = 10% so far**\n",
    "\n",
    "---\n",
    "**Problems to solve:**\n",
    "\n",
    "1. 5 problems with 2 variables for which you can easily find the solution geometrically (for LPs you should know the solution exactly, i.e. in which vertex it is, while for QPs you should the solution at least approximately).\n",
    "\n",
    "2. 5 problems with more (5-10) variables.\n",
    "\n",
    "The same applies to both, linear programs (LPs) and QPs. You can use the same feasible set for both and just choose a different objective function. Note, however, that even though the feasible set is the same for LPs and QPs (i.e. the constraints are linear), we used a different format for each. You can e.g. start with the constraints $x>=0$ and $a_i^T x <= b_i$ to fit the QP format.\n",
    "\n",
    "To make things easier, you can always choose the feasible set for which you know a feasible point that can be used as a starting point $x_0$. Particularly, for the constraints given via $x >= 0$ and $a_i^T x <= b_i$, point $x=0$ is always feasible if $b_i >= 0$.\n",
    "\n",
    "**When is the problem \"solved\"?**\n",
    "\n",
    "Since we are only dealing with LPs and QPs, the algorithm should be stopped if the multipliers have the required signs, signaling that the KKT conditions are satisfied.\n",
    "\n",
    "---"
   ]
  },
  {
   "cell_type": "markdown",
   "metadata": {},
   "source": [
    "## The simplex method"
   ]
  },
  {
   "cell_type": "markdown",
   "metadata": {},
   "source": [
    "### LP no.1 with 2 variables\n",
    "\n",
    "Maximize\n",
    "\n",
    "$$\n",
    "z = 4x + 5y\n",
    "$$\n",
    "\n",
    "s.t.\n",
    "\n",
    "\\begin{align}\n",
    "x + y <= 20\\\\\n",
    "3x + 4y <= 72\n",
    "\\end{align}\n",
    "\n",
    "### Analytical\n",
    "\n",
    "<img src=\"img/problem1.jpg\" alt=\"drawing\" width=\"600\"/>\n",
    "\n",
    "### Programmatic\n",
    "\n",
    "...but first I need to add slack variables and stuff to get to the normal form (I will convert it back programmatically later, so this is just for my sanity). Normal form states:\n",
    "\n",
    "> Maximize the value of $c^T x$ among all vectors $x$ in $R^n$ satisfying $Ax <= b$."
   ]
  },
  {
   "cell_type": "code",
   "execution_count": 1,
   "metadata": {},
   "outputs": [],
   "source": [
    "c = [4, 5, 0, 0]  # Singifying objective: 4x_1 + 5x_2 + 0x_3 + 0x_4, where x_3 and x_4 are slack variables\n",
    "A = [  # Constraints matrix\n",
    "    [1, 1, 1, 0],  # First constraint\n",
    "    [3, 4, 0, 1],  # Second constraint\n",
    "]\n",
    "b = [20, 72]  # Right side of the constraints"
   ]
  },
  {
   "cell_type": "code",
   "execution_count": 2,
   "metadata": {},
   "outputs": [],
   "source": [
    "import numpy as np\n",
    "\n",
    "def to_tableau(c, A, b):\n",
    "    xb = [eq + [x] for eq, x in zip(A, b)]\n",
    "    z = c + [0]\n",
    "    return xb + [z]"
   ]
  },
  {
   "cell_type": "code",
   "execution_count": 3,
   "metadata": {},
   "outputs": [],
   "source": [
    "def can_be_improved(tableau):\n",
    "    \"\"\"\n",
    "    Check where nonbasic values can be increased without making the objective function value smaller.\n",
    "    \"\"\"\n",
    "    z = tableau[-1]\n",
    "    return any(x > 0 for x in z[:-1])"
   ]
  },
  {
   "cell_type": "code",
   "execution_count": 4,
   "metadata": {},
   "outputs": [],
   "source": [
    "def get_pivot_position(tableau):\n",
    "    z = tableau[-1]\n",
    "    column = next(i for i, x in enumerate(z[:-1]) if x > 0)\n",
    "    \n",
    "    restrictions = []\n",
    "    for eq in tableau[:-1]:\n",
    "        el = eq[column]\n",
    "        restrictions.append(np.inf if el <= 0 else eq[-1] / el)\n",
    "\n",
    "    row = restrictions.index(min(restrictions))\n",
    "    return row, column"
   ]
  },
  {
   "cell_type": "code",
   "execution_count": 5,
   "metadata": {},
   "outputs": [],
   "source": [
    "def pivot_step(tableau, pivot_position):\n",
    "    new_tableau = [[] for eq in tableau]\n",
    "    \n",
    "    i, j = pivot_position\n",
    "    pivot_value = tableau[i][j]\n",
    "    new_tableau[i] = np.array(tableau[i]) / pivot_value\n",
    "    \n",
    "    for eq_i, eq in enumerate(tableau):\n",
    "        if eq_i != i:\n",
    "            multiplier = np.array(new_tableau[i]) * tableau[eq_i][j]\n",
    "            new_tableau[eq_i] = np.array(tableau[eq_i]) - multiplier\n",
    "   \n",
    "    return new_tableau"
   ]
  },
  {
   "cell_type": "code",
   "execution_count": 6,
   "metadata": {},
   "outputs": [],
   "source": [
    "def is_basic(column):\n",
    "    return sum(column) == 1 and len([c for c in column if c == 0]) == len(column) - 1\n",
    "\n",
    "def get_solution(tableau):\n",
    "    columns = np.array(tableau).T\n",
    "    solutions = []\n",
    "    for column in columns:\n",
    "        solution = 0\n",
    "        if is_basic(column):\n",
    "            one_index = column.tolist().index(1)\n",
    "            solution = columns[-1][one_index]\n",
    "        solutions.append(solution)\n",
    "        \n",
    "    return solutions"
   ]
  },
  {
   "cell_type": "code",
   "execution_count": 7,
   "metadata": {},
   "outputs": [],
   "source": [
    "def simplex(c, A, b):\n",
    "    tableau = to_tableau(c, A, b)\n",
    "\n",
    "    while can_be_improved(tableau):\n",
    "        pivot_position = get_pivot_position(tableau)\n",
    "        tableau = pivot_step(tableau, pivot_position)\n",
    "\n",
    "    return get_solution(tableau)"
   ]
  },
  {
   "cell_type": "code",
   "execution_count": 8,
   "metadata": {},
   "outputs": [
    {
     "name": "stdout",
     "output_type": "stream",
     "text": [
      "solution:  [8.0, 12.0, 0, 0, 0]\n"
     ]
    }
   ],
   "source": [
    "solution = simplex(c, A, b)\n",
    "print('solution: ', solution)"
   ]
  },
  {
   "cell_type": "markdown",
   "metadata": {},
   "source": [
    "Yay!!! It's the same {8, 12} point! 5% done..."
   ]
  },
  {
   "cell_type": "markdown",
   "metadata": {},
   "source": [
    "### LP no.2 with 2 variables\n",
    "\n",
    "Maximize $x_1 + x_2$\n",
    "\n",
    "s.t.\n",
    "\n",
    "\\begin{align}\n",
    "x_1 ≥ 0\\\\\n",
    "x_2 ≥ 0\\\\ \n",
    "-x_1 + x_2 ≤ 2\\\\\n",
    "x_1 ≤ 4\\\\\n",
    "x_2 ≤ 4\n",
    "\\end{align}\n",
    "\n",
    "This is actually just taken from [here](https://radzion.com/blog/operations/simplex)."
   ]
  },
  {
   "cell_type": "code",
   "execution_count": 10,
   "metadata": {},
   "outputs": [
    {
     "name": "stdout",
     "output_type": "stream",
     "text": [
      "solution:  [4.0, 4.0, 2.0, 0, 0, 0]\n"
     ]
    }
   ],
   "source": [
    "c = [1, 1, 0, 0, 0]\n",
    "A = [\n",
    "    [-1, 1, 1, 0, 0],\n",
    "    [ 1, 0, 0, 1, 0],\n",
    "    [ 0, 1, 0, 0, 1]\n",
    "]\n",
    "b = [2, 4, 4]\n",
    "\n",
    "solution = simplex(c, A, b)\n",
    "print('solution: ', solution)"
   ]
  },
  {
   "cell_type": "markdown",
   "metadata": {},
   "source": [
    "## QP\n",
    "\n",
    "Primal form of active set method to solve the generic quadratic program:\n",
    "\n",
    "\\begin{align}\n",
    "min &f(x)\\\\\n",
    "s.t.~&Ax = b\\\\\n",
    "     &Cx <= d\\\\\n",
    "     &lb <= x <= ub\n",
    "\\end{align}\n",
    "\n",
    "The KKT matrix form of the QP is:\n",
    "\n",
    "$$\n",
    "\\left(\\begin{matrix}\n",
    "  H & C.T \\\\\n",
    "  C & 0\n",
    "\\end{matrix}\\right)\n",
    "*\n",
    "\\left(\\begin{matrix}\n",
    "  x \\\\\n",
    "  l\n",
    "\\end{matrix}\\right)\n",
    "=\n",
    "\\left(\\begin{matrix}\n",
    "  h \\\\\n",
    "  d\n",
    "\\end{matrix}\\right)\n",
    "$$\n",
    "\n",
    "where:\n",
    "\n",
    "- H = objective function Hessian matrix\n",
    "- h = objective function Hessian target vector\n",
    "- C = constraint coefficient matrix\n",
    "- d = constraint target vector\n",
    "- x = solution vector\n",
    "- l = Lagrangian vector\n",
    "\n",
    "An active-set method must start from a feasible initial solution. For many problems deriving a feasible initial solution is a trivial problem. Otherwise, an equality-constrained linear program is solved. Subsequently, at each iteration of the active set algorithm, an equality-constrained KKT subproblem is solved to find the next step direction (with an associated calculation to find the magnitude of the step). The KKT form of the subproblem is very similar to the above except where:\n",
    "\n",
    "- C = AC = active constraint matrix\n",
    "- x = p = directional step vector\n",
    "- h = h - H * x_cur\n",
    "- d = 0"
   ]
  },
  {
   "cell_type": "markdown",
   "metadata": {},
   "source": [
    "## QP no.1\n",
    "\n",
    "This example is taken from \"Numerical Optimization\" (p.475, example 16.4).\n",
    "\n",
    "<img src=\"img/qp1.png\" alt=\"qp\" width=\"600\"/>\n",
    "\n",
    "\\begin{align}\n",
    "\\min_x q(x) = (x_1 - 1)^2 + (x_2 - 2.5)^2\\\\\n",
    "s.t.\\\\\n",
    "x_1 - 2x_2 + 2 >= 0\\\\\n",
    "-x_1 - 2x_2 + 6 >= 0\\\\\n",
    "-x_1 + 2x_2 + 2 >= 0\\\\\n",
    "x_1 >= 0\\\\\n",
    "x_2 >= 0 \n",
    "\\end{align}"
   ]
  },
  {
   "cell_type": "code",
   "execution_count": 1,
   "metadata": {},
   "outputs": [
    {
     "ename": "ValueError",
     "evalue": "shapes (3,4) and (0,1) not aligned: 4 (dim 1) != 0 (dim 0)",
     "output_type": "error",
     "traceback": [
      "\u001b[0;31m---------------------------------------------------------------------------\u001b[0m",
      "\u001b[0;31mValueError\u001b[0m                                Traceback (most recent call last)",
      "\u001b[1;32m/home/barklan/dev/6n1nlaf9bky31o1n/main.ipynb Cell 17\u001b[0m in \u001b[0;36m<cell line: 17>\u001b[0;34m()\u001b[0m\n\u001b[1;32m     <a href='vscode-notebook-cell:/home/barklan/dev/6n1nlaf9bky31o1n/main.ipynb#ch0000018?line=13'>14</a>\u001b[0m de \u001b[39m=\u001b[39m [\u001b[39m3\u001b[39m, \u001b[39m0\u001b[39m]\n\u001b[1;32m     <a href='vscode-notebook-cell:/home/barklan/dev/6n1nlaf9bky31o1n/main.ipynb#ch0000018?line=15'>16</a>\u001b[0m solver \u001b[39m=\u001b[39m ConstrainedLS()\n\u001b[0;32m---> <a href='vscode-notebook-cell:/home/barklan/dev/6n1nlaf9bky31o1n/main.ipynb#ch0000018?line=16'>17</a>\u001b[0m solver\u001b[39m.\u001b[39;49mrun(A\u001b[39m=\u001b[39;49mA, b\u001b[39m=\u001b[39;49mb, Ce\u001b[39m=\u001b[39;49mCe, de\u001b[39m=\u001b[39;49mde)\n",
      "File \u001b[0;32m~/dev/6n1nlaf9bky31o1n/qp.py:436\u001b[0m, in \u001b[0;36mActiveSet.run\u001b[0;34m(self, A, b, Ce, de, Ci, di, cu, cl, x0)\u001b[0m\n\u001b[1;32m    402\u001b[0m \u001b[39m\"\"\"\u001b[39;00m\n\u001b[1;32m    403\u001b[0m \u001b[39mActive set method for sequential quadratic programming.\u001b[39;00m\n\u001b[1;32m    404\u001b[0m \n\u001b[0;32m   (...)\u001b[0m\n\u001b[1;32m    433\u001b[0m \u001b[39m    number of active set iterations\u001b[39;00m\n\u001b[1;32m    434\u001b[0m \u001b[39m\"\"\"\u001b[39;00m\n\u001b[1;32m    435\u001b[0m \u001b[39m# construct input\u001b[39;00m\n\u001b[0;32m--> 436\u001b[0m \u001b[39mself\u001b[39;49m\u001b[39m.\u001b[39;49m_prep_inputs(A, b, Ce, Ci, de, di, cu, cl)\n\u001b[1;32m    437\u001b[0m \u001b[39m# get initial feasible solution. check feasibility if\u001b[39;00m\n\u001b[1;32m    438\u001b[0m \u001b[39m# user-provided, otherwise solve the equality constrained\u001b[39;00m\n\u001b[1;32m    439\u001b[0m \u001b[39m# linear program for a feasible initial solution.\u001b[39;00m\n\u001b[1;32m    440\u001b[0m \u001b[39mif\u001b[39;00m \u001b[39mnot\u001b[39;00m \u001b[39mlen\u001b[39m(x0):\n",
      "File \u001b[0;32m~/dev/6n1nlaf9bky31o1n/qp.py:382\u001b[0m, in \u001b[0;36mActiveSet._prep_inputs\u001b[0;34m(self, A, b, Ce, Ci, de, di, cu, cl)\u001b[0m\n\u001b[1;32m    380\u001b[0m \u001b[39mself\u001b[39m\u001b[39m.\u001b[39md \u001b[39m=\u001b[39m np\u001b[39m.\u001b[39mreshape(\u001b[39mself\u001b[39m\u001b[39m.\u001b[39md, (\u001b[39m-\u001b[39m\u001b[39m1\u001b[39m, \u001b[39m1\u001b[39m))\n\u001b[1;32m    381\u001b[0m \u001b[39m# set Hessian instance variables\u001b[39;00m\n\u001b[0;32m--> 382\u001b[0m \u001b[39mself\u001b[39;49m\u001b[39m.\u001b[39;49m_calc_Hessians()\n\u001b[1;32m    383\u001b[0m \u001b[39m# add equality constraints\u001b[39;00m\n\u001b[1;32m    384\u001b[0m \u001b[39mself\u001b[39m\u001b[39m.\u001b[39mCe, \u001b[39mself\u001b[39m\u001b[39m.\u001b[39mde \u001b[39m=\u001b[39m \u001b[39mself\u001b[39m\u001b[39m.\u001b[39m_check_constraints(Ce, de, \u001b[39m'\u001b[39m\u001b[39mCe\u001b[39m\u001b[39m'\u001b[39m, \u001b[39m'\u001b[39m\u001b[39mde\u001b[39m\u001b[39m'\u001b[39m)\n",
      "File \u001b[0;32m~/dev/6n1nlaf9bky31o1n/qp.py:533\u001b[0m, in \u001b[0;36mConstrainedLS._calc_Hessians\u001b[0;34m(self)\u001b[0m\n\u001b[1;32m    531\u001b[0m At \u001b[39m=\u001b[39m \u001b[39mself\u001b[39m\u001b[39m.\u001b[39mA\u001b[39m.\u001b[39mT\n\u001b[1;32m    532\u001b[0m \u001b[39mself\u001b[39m\u001b[39m.\u001b[39mH \u001b[39m=\u001b[39m \u001b[39m2\u001b[39m \u001b[39m*\u001b[39m np\u001b[39m.\u001b[39mdot(At, \u001b[39mself\u001b[39m\u001b[39m.\u001b[39mA)\n\u001b[0;32m--> 533\u001b[0m \u001b[39mself\u001b[39m\u001b[39m.\u001b[39mh \u001b[39m=\u001b[39m \u001b[39m2\u001b[39m \u001b[39m*\u001b[39m np\u001b[39m.\u001b[39;49mdot(At, \u001b[39mself\u001b[39;49m\u001b[39m.\u001b[39;49mb)\n",
      "File \u001b[0;32m<__array_function__ internals>:180\u001b[0m, in \u001b[0;36mdot\u001b[0;34m(*args, **kwargs)\u001b[0m\n",
      "\u001b[0;31mValueError\u001b[0m: shapes (3,4) and (0,1) not aligned: 4 (dim 1) != 0 (dim 0)"
     ]
    }
   ],
   "source": [
    "from qp import ConstrainedLS\n",
    "\n",
    "A = [\n",
    "    [6, 2, 1],\n",
    "    [2, 5, 2],\n",
    "    [1, 2, 4],\n",
    "    [-8, -3, -3]\n",
    "]\n",
    "b = []\n",
    "Ce = [\n",
    "    [1, 0, 1],\n",
    "    [0, 1, 1]\n",
    "]\n",
    "de = [3, 0]\n",
    "\n",
    "solver = ConstrainedLS()\n",
    "solver.run(A=A, b=b, Ce=Ce, de=de)"
   ]
  },
  {
   "cell_type": "code",
   "execution_count": null,
   "metadata": {},
   "outputs": [],
   "source": []
  }
 ],
 "metadata": {
  "kernelspec": {
   "display_name": "Python 3.10.5 ('.venv': venv)",
   "language": "python",
   "name": "python3"
  },
  "language_info": {
   "codemirror_mode": {
    "name": "ipython",
    "version": 3
   },
   "file_extension": ".py",
   "mimetype": "text/x-python",
   "name": "python",
   "nbconvert_exporter": "python",
   "pygments_lexer": "ipython3",
   "version": "3.10.5"
  },
  "orig_nbformat": 4,
  "vscode": {
   "interpreter": {
    "hash": "3c03fe6e66faf65c484c5b84f59123b442da6d5a482981daae01c7ccb2a46910"
   }
  }
 },
 "nbformat": 4,
 "nbformat_minor": 2
}
